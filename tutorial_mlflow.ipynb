{
 "cells": [
  {
   "cell_type": "code",
   "execution_count": 49,
   "metadata": {},
   "outputs": [],
   "source": [
    "#https://www.mlflow.org/docs/latest/tutorials-and-examples/tutorial.html\n",
    "#https://pedro-munoz.tech/how-to-setup-mlflow-in-production/\n",
    "import os\n",
    "import warnings\n",
    "import sys\n",
    "\n",
    "import pandas as pd\n",
    "import numpy as np\n",
    "from sklearn.metrics import mean_squared_error, mean_absolute_error, r2_score\n",
    "from sklearn.model_selection import train_test_split\n",
    "from sklearn.linear_model import ElasticNet\n",
    "from urllib.parse import urlparse\n",
    "import mlflow\n",
    "import mlflow.sklearn\n",
    "import matplotlib.pyplot as plt\n",
    "import git\n",
    "\n",
    "import logging\n",
    "\n",
    "logging.basicConfig(level=logging.WARN)\n",
    "logger = logging.getLogger(__name__)\n",
    "from mlflow import MlflowClient\n",
    "\n",
    "sys.path.append('../')\n",
    "import os"
   ]
  },
  {
   "cell_type": "code",
   "execution_count": 50,
   "metadata": {},
   "outputs": [
    {
     "name": "stdout",
     "output_type": "stream",
     "text": [
      "http://127.0.0.1:5000/\n"
     ]
    }
   ],
   "source": [
    "#export MLFLOW_TRACKING_URI = http://127.0.0.1:5000/\n",
    "print(os.getenv('MLFLOW_TRACKING_URI'))"
   ]
  },
  {
   "cell_type": "code",
   "execution_count": 51,
   "metadata": {},
   "outputs": [],
   "source": [
    "#tracking\n",
    "mlflow.set_tracking_uri(os.getenv('MLFLOW_TRACKING_URI'))"
   ]
  },
  {
   "cell_type": "code",
   "execution_count": 52,
   "metadata": {},
   "outputs": [],
   "source": [
    "# mlflow server --backend-store-uri 'sqlite:///mlflow.db' --artifacts-destination mlflow/artifacts_root --serve-artifacts"
   ]
  },
  {
   "cell_type": "code",
   "execution_count": 53,
   "metadata": {},
   "outputs": [],
   "source": [
    "def eval_metrics(actual, pred):\n",
    "    rmse = np.sqrt(mean_squared_error(actual, pred))\n",
    "    mae = mean_absolute_error(actual, pred)\n",
    "    r2 = r2_score(actual, pred)\n",
    "    return rmse, mae, r2"
   ]
  },
  {
   "cell_type": "code",
   "execution_count": 54,
   "metadata": {},
   "outputs": [],
   "source": [
    "def render_mpl_table(data, col_width=3.0, row_height=0.625, font_size=14,\n",
    "                     header_color='#40466e', row_colors=['#f1f1f2', 'w'], edge_color='w',\n",
    "                     bbox=[0, 0, 1, 1], header_columns=0,\n",
    "                     ax=None, **kwargs):\n",
    "    if ax is None:\n",
    "        size = (np.array(data.shape[::-1]) + np.array([0, 1])) * np.array([col_width, row_height])\n",
    "        fig, ax = plt.subplots(figsize=size)\n",
    "        ax.axis('off')\n",
    "    mpl_table = ax.table(cellText=data.values, bbox=bbox, colLabels=data.columns, **kwargs)\n",
    "    mpl_table.auto_set_font_size(False)\n",
    "    mpl_table.set_fontsize(font_size)\n",
    "\n",
    "    for k, cell in mpl_table._cells.items():\n",
    "        cell.set_edgecolor(edge_color)\n",
    "        if k[0] == 0 or k[1] < header_columns:\n",
    "            cell.set_text_props(weight='bold', color='w')\n",
    "            cell.set_facecolor(header_color)\n",
    "        else:\n",
    "            cell.set_facecolor(row_colors[k[0]%len(row_colors) ])\n",
    "    return ax.get_figure(), ax"
   ]
  },
  {
   "cell_type": "code",
   "execution_count": 55,
   "metadata": {},
   "outputs": [],
   "source": [
    "def savefig(rmse, mae, r2, artifact_path):\n",
    "    df = pd.DataFrame()\n",
    "    df['mae'] = [mae.round(3)]\n",
    "    df['rmse'] = [rmse.round(3)]\n",
    "    df['r2'] = [r2.round(3)]\n",
    "\n",
    "    fig,ax = render_mpl_table(df, header_columns=0, col_width=2.0)\n",
    "    fig.savefig(artifact_path+\"/metrics.png\")  "
   ]
  },
  {
   "cell_type": "code",
   "execution_count": 56,
   "metadata": {},
   "outputs": [],
   "source": [
    "def get_commit_version():\n",
    "    repo = git.Repo(search_parent_directories=True)\n",
    "    return repo.head.object.hexsha"
   ]
  },
  {
   "cell_type": "code",
   "execution_count": 57,
   "metadata": {},
   "outputs": [],
   "source": [
    "warnings.filterwarnings(\"ignore\")\n",
    "np.random.seed(40)\n",
    "\n",
    "data = pd.read_csv(\"data/winequality-red.csv\", sep=\";\")\n",
    "\n",
    "# Split the data into training and test sets. (0.75, 0.25) split.\n",
    "train, test = train_test_split(data)\n",
    "\n",
    "# The predicted column is \"quality\" which is a scalar from [3, 9]\n",
    "train_x = train.drop([\"quality\"], axis=1)\n",
    "test_x = test.drop([\"quality\"], axis=1)\n",
    "train_y = train[[\"quality\"]]\n",
    "test_y = test[[\"quality\"]]"
   ]
  },
  {
   "cell_type": "code",
   "execution_count": 58,
   "metadata": {},
   "outputs": [],
   "source": [
    "alpha = .99\n",
    "l1_ratio = .67\n",
    "run_name = 'AMA 2023.1'\n",
    "description = 'Exemplo Palestra dia 22/06 - Massa!'\n",
    "experiment_id = 0\n",
    "artifact_path = \"artifacts\""
   ]
  },
  {
   "cell_type": "code",
   "execution_count": 59,
   "metadata": {},
   "outputs": [
    {
     "name": "stdout",
     "output_type": "stream",
     "text": [
      "Elasticnet model (alpha=0.990000, l1_ratio=0.670000):\n",
      "  RMSE: 0.8330733374019733\n",
      "  MAE: 0.6699935741581828\n",
      "  R2: 0.01666793880477213\n"
     ]
    },
    {
     "name": "stderr",
     "output_type": "stream",
     "text": [
      "Registered model 'ElasticnetWineModel' already exists. Creating a new version of this model...\n",
      "2023/06/22 15:18:27 INFO mlflow.tracking._model_registry.client: Waiting up to 300 seconds for model version to finish creation. Model name: ElasticnetWineModel, version 17\n",
      "Created version '17' of model 'ElasticnetWineModel'.\n"
     ]
    },
    {
     "data": {
      "image/png": "[encoded data removed]",
      "text/plain": [
       "<Figure size 600x125 with 1 Axes>"
      ]
     },
     "metadata": {},
     "output_type": "display_data"
    }
   ],
   "source": [
    "\n",
    "with mlflow.start_run(run_name=run_name, experiment_id = experiment_id, description=description, tags={\"mlflow.source.git.commit\": get_commit_version()}):\n",
    "    lr = ElasticNet(alpha=alpha, l1_ratio=l1_ratio, random_state=42)\n",
    "    lr.fit(train_x, train_y)\n",
    "\n",
    "    predicted_qualities = lr.predict(test_x)\n",
    "\n",
    "    (rmse, mae, r2) = eval_metrics(test_y, predicted_qualities)\n",
    "\n",
    "    print(\"Elasticnet model (alpha=%f, l1_ratio=%f):\" % (alpha, l1_ratio))\n",
    "    print(\"  RMSE: %s\" % rmse)\n",
    "    print(\"  MAE: %s\" % mae)\n",
    "    print(\"  R2: %s\" % r2)\n",
    "\n",
    "    mlflow.log_param(\"alpha\", alpha)\n",
    "    mlflow.log_param(\"l1_ratio\", l1_ratio)\n",
    "    mlflow.log_metric(\"rmse\", rmse)\n",
    "    mlflow.log_metric(\"r2\", r2)\n",
    "    mlflow.log_metric(\"mae\", mae)\n",
    "\n",
    "    test_x.to_csv(artifact_path+\"/test.csv\")\n",
    "    train_x.to_csv(artifact_path+\"/train.csv\")\n",
    "    test_y.to_csv(artifact_path+\"/y_test.csv\")\n",
    "    pd.Series(predicted_qualities).to_csv(artifact_path+\"/y_predict.csv\")\n",
    "\n",
    "    savefig(rmse,mae,r2, artifact_path)\n",
    "\n",
    "    mlflow.log_artifact(artifact_path+\"/test.csv\", artifact_path=\"data\")\n",
    "    mlflow.log_artifact(artifact_path+\"/train.csv\", artifact_path=\"data\")\n",
    "    mlflow.log_artifact(artifact_path+\"/y_test.csv\", artifact_path=\"data\")\n",
    "    mlflow.log_artifact(artifact_path+\"/y_predict.csv\", artifact_path=\"data\")\n",
    "    mlflow.log_artifact(artifact_path+\"/metrics.png\", artifact_path=\"images\")\n",
    "    mlflow.set_tag('Train Size', 0.75)\n",
    "    mlflow.set_tag('Test Size', 0.25)\n",
    "\n",
    "    tracking_url_type_store = urlparse(mlflow.get_tracking_uri()).scheme\n",
    "\n",
    "    # Model registry does not work with file store\n",
    "    if tracking_url_type_store != \"file\":\n",
    "        mlflow.sklearn.log_model(lr, \"model\", registered_model_name=\"ElasticnetWineModel\")\n",
    "        # model_info = mlflow.sklearn.log_model(lr, \"model\")\n",
    "    else:\n",
    "        mlflow.sklearn.log_model(lr, \"model\")"
   ]
  },
  {
   "attachments": {},
   "cell_type": "markdown",
   "metadata": {},
   "source": [
    "### Logged Model"
   ]
  },
  {
   "cell_type": "code",
   "execution_count": 64,
   "metadata": {},
   "outputs": [
    {
     "name": "stdout",
     "output_type": "stream",
     "text": [
      "RMSE: 0.833 | MAE: 0.670 | R2: 0.017\n"
     ]
    }
   ],
   "source": [
    "logged_model = 'runs:/fc737958ef9f4805b0981b13b29aa025/model'\n",
    "\n",
    "# Load model as a PyFuncModel.\n",
    "loaded_model = mlflow.pyfunc.load_model(logged_model)\n",
    "y_predict = loaded_model.predict(pd.DataFrame(test_x))\n",
    "(rmse, mae, r2) = eval_metrics(test_y, y_predict)\n",
    "print(f'RMSE: {rmse:.3f} | MAE: {mae:.3f} | R2: {r2:.3f}')"
   ]
  },
  {
   "attachments": {},
   "cell_type": "markdown",
   "metadata": {},
   "source": [
    "### Stage"
   ]
  },
  {
   "cell_type": "code",
   "execution_count": 66,
   "metadata": {},
   "outputs": [
    {
     "name": "stdout",
     "output_type": "stream",
     "text": [
      "Stage: Production | RMSE: 0.833 | MAE: 0.670 | R2: 0.017\n"
     ]
    }
   ],
   "source": [
    "model_name = \"ElasticnetWineModel\"\n",
    "stage = \"Production\"\n",
    "# stage = \"Staging\"\n",
    "loaded_model = mlflow.pyfunc.load_model(model_uri=f\"models:/{model_name}/{stage}\")\n",
    "y_predict = loaded_model.predict(pd.DataFrame(test_x))\n",
    "(rmse, mae, r2) = eval_metrics(test_y, y_predict)\n",
    "print(f'Stage: {stage} | RMSE: {rmse:.3f} | MAE: {mae:.3f} | R2: {r2:.3f}')"
   ]
  },
  {
   "attachments": {},
   "cell_type": "markdown",
   "metadata": {},
   "source": [
    "### Version"
   ]
  },
  {
   "cell_type": "code",
   "execution_count": 68,
   "metadata": {},
   "outputs": [
    {
     "name": "stdout",
     "output_type": "stream",
     "text": [
      "Version: 8 | RMSE: 0.766 | MAE: 0.597 | R2: 0.169\n"
     ]
    }
   ],
   "source": [
    "model_name = \"ElasticnetWineModel\"\n",
    "# version = \"1\"\n",
    "version = \"8\"\n",
    "loaded_model = mlflow.pyfunc.load_model(model_uri=f\"models:/{model_name}/{version}\")\n",
    "y_predict = loaded_model.predict(pd.DataFrame(test_x))\n",
    "(rmse, mae, r2) = eval_metrics(test_y, y_predict)\n",
    "print(f'Version: {version} | RMSE: {rmse:.3f} | MAE: {mae:.3f} | R2: {r2:.3f}')"
   ]
  },
  {
   "attachments": {},
   "cell_type": "markdown",
   "metadata": {},
   "source": [
    "### Model Serve"
   ]
  },
  {
   "cell_type": "code",
   "execution_count": 63,
   "metadata": {},
   "outputs": [],
   "source": [
    "#mlflow models serve -m \"models:/ElasticnetWineModel/Production\" --port 5002 --no-conda\n",
    "#curl -d '{\"dataframe_split\": {\n",
    "# \"columns\": [\"fixed acidity\",\"volatile acidity\",\"citric acid\",\"residual sugar\",\"chlorides\",\"free sulfur dioxide\",\"total sulfur dioxide\",\"density\",\"pH\",\"sulphates\",\"alcohol\"],\n",
    "# \"data\": [[7,0.27,0.36,20.7,0.045,45,170,1.001,3,0.45,8.8]]}}' -H 'Content-Type: application/json' -X POST localhost:5002/invocations\n"
   ]
  }
 ],
 "metadata": {
  "kernelspec": {
   "display_name": "Python 3.9.12 ('test')",
   "language": "python",
   "name": "python3"
  },
  "language_info": {
   "codemirror_mode": {
    "name": "ipython",
    "version": 3
   },
   "file_extension": ".py",
   "mimetype": "text/x-python",
   "name": "python",
   "nbconvert_exporter": "python",
   "pygments_lexer": "ipython3",
   "version": "3.9.16"
  },
  "orig_nbformat": 4,
  "vscode": {
   "interpreter": {
    "hash": "3ad85d9eef6076f9fdede944d11ad4ffeda908ba2ab7eb0f0b7e14a2170e6706"
   }
  }
 },
 "nbformat": 4,
 "nbformat_minor": 2
}
