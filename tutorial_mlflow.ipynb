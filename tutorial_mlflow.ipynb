{
 "cells": [
  {
   "cell_type": "code",
   "execution_count": 1,
   "metadata": {},
   "outputs": [],
   "source": [
    "#https://www.mlflow.org/docs/latest/tutorials-and-examples/tutorial.html\n",
    "#https://pedro-munoz.tech/how-to-setup-mlflow-in-production/\n",
    "import os\n",
    "import warnings\n",
    "import sys\n",
    "\n",
    "import pandas as pd\n",
    "import numpy as np\n",
    "from sklearn.metrics import mean_squared_error, mean_absolute_error, r2_score\n",
    "from sklearn.model_selection import train_test_split\n",
    "from sklearn.linear_model import ElasticNet\n",
    "from urllib.parse import urlparse\n",
    "import mlflow\n",
    "import mlflow.sklearn\n",
    "import matplotlib.pyplot as plt\n",
    "import git\n",
    "\n",
    "import logging\n",
    "\n",
    "logging.basicConfig(level=logging.WARN)\n",
    "logger = logging.getLogger(__name__)\n",
    "\n",
    "sys.path.append('../')"
   ]
  },
  {
   "cell_type": "code",
   "execution_count": 2,
   "metadata": {},
   "outputs": [],
   "source": [
    "#tracking\n",
    "mlflow.set_tracking_uri(\"http://127.0.0.1:5000/\")"
   ]
  },
  {
   "cell_type": "code",
   "execution_count": 3,
   "metadata": {},
   "outputs": [],
   "source": [
    "def eval_metrics(actual, pred):\n",
    "    rmse = np.sqrt(mean_squared_error(actual, pred))\n",
    "    mae = mean_absolute_error(actual, pred)\n",
    "    r2 = r2_score(actual, pred)\n",
    "    return rmse, mae, r2"
   ]
  },
  {
   "cell_type": "code",
   "execution_count": 4,
   "metadata": {},
   "outputs": [],
   "source": [
    "def render_mpl_table(data, col_width=3.0, row_height=0.625, font_size=14,\n",
    "                     header_color='#40466e', row_colors=['#f1f1f2', 'w'], edge_color='w',\n",
    "                     bbox=[0, 0, 1, 1], header_columns=0,\n",
    "                     ax=None, **kwargs):\n",
    "    if ax is None:\n",
    "        size = (np.array(data.shape[::-1]) + np.array([0, 1])) * np.array([col_width, row_height])\n",
    "        fig, ax = plt.subplots(figsize=size)\n",
    "        ax.axis('off')\n",
    "    mpl_table = ax.table(cellText=data.values, bbox=bbox, colLabels=data.columns, **kwargs)\n",
    "    mpl_table.auto_set_font_size(False)\n",
    "    mpl_table.set_fontsize(font_size)\n",
    "\n",
    "    for k, cell in mpl_table._cells.items():\n",
    "        cell.set_edgecolor(edge_color)\n",
    "        if k[0] == 0 or k[1] < header_columns:\n",
    "            cell.set_text_props(weight='bold', color='w')\n",
    "            cell.set_facecolor(header_color)\n",
    "        else:\n",
    "            cell.set_facecolor(row_colors[k[0]%len(row_colors) ])\n",
    "    return ax.get_figure(), ax"
   ]
  },
  {
   "cell_type": "code",
   "execution_count": 6,
   "metadata": {},
   "outputs": [],
   "source": [
    "def savefig(rmse, mae, r2, artifact_path):\n",
    "    df = pd.DataFrame()\n",
    "    df['mae'] = [mae.round(3)]\n",
    "    df['rmse'] = [rmse.round(3)]\n",
    "    df['r2'] = [r2.round(3)]\n",
    "\n",
    "    fig,ax = render_mpl_table(df, header_columns=0, col_width=2.0)\n",
    "    fig.savefig(artifact_path+\"/metrics.png\")  "
   ]
  },
  {
   "cell_type": "code",
   "execution_count": 7,
   "metadata": {},
   "outputs": [],
   "source": [
    "def get_commit_version():\n",
    "    repo = git.Repo(search_parent_directories=True)\n",
    "    return repo.head.object.hexsha"
   ]
  },
  {
   "cell_type": "code",
   "execution_count": 9,
   "metadata": {},
   "outputs": [],
   "source": [
    "warnings.filterwarnings(\"ignore\")\n",
    "np.random.seed(40)\n",
    "\n",
    "data = pd.read_csv(\"data/winequality-red.csv\", sep=\";\")\n",
    "\n",
    "# Split the data into training and test sets. (0.75, 0.25) split.\n",
    "train, test = train_test_split(data)\n",
    "\n",
    "# The predicted column is \"quality\" which is a scalar from [3, 9]\n",
    "train_x = train.drop([\"quality\"], axis=1)\n",
    "test_x = test.drop([\"quality\"], axis=1)\n",
    "train_y = train[[\"quality\"]]\n",
    "test_y = test[[\"quality\"]]"
   ]
  },
  {
   "cell_type": "code",
   "execution_count": 10,
   "metadata": {},
   "outputs": [],
   "source": [
    "alpha = 0.2\n",
    "l1_ratio = 1\n",
    "run_name = 'Tutorial MLFlow - ML Lead'\n",
    "description = 'Exemplo'\n",
    "experiment_id = 3"
   ]
  },
  {
   "cell_type": "code",
   "execution_count": 11,
   "metadata": {},
   "outputs": [
    {
     "ename": "InvalidGitRepositoryError",
     "evalue": "",
     "output_type": "error",
     "traceback": [
      "\u001b[0;31m---------------------------------------------------------------------------\u001b[0m",
      "\u001b[0;31mInvalidGitRepositoryError\u001b[0m                 Traceback (most recent call last)",
      "\u001b[1;32m/home/leaddell/MLFLow Tutorial/tutorial_mlflow.ipynb Cell 9\u001b[0m in \u001b[0;36m<cell line: 2>\u001b[0;34m()\u001b[0m\n\u001b[1;32m      <a href='vscode-notebook-cell:/home/leaddell/MLFLow%20Tutorial/tutorial_mlflow.ipynb#X11sZmlsZQ%3D%3D?line=0'>1</a>\u001b[0m artifact_path \u001b[39m=\u001b[39m \u001b[39m\"\u001b[39m\u001b[39martifacts\u001b[39m\u001b[39m\"\u001b[39m\n\u001b[0;32m----> <a href='vscode-notebook-cell:/home/leaddell/MLFLow%20Tutorial/tutorial_mlflow.ipynb#X11sZmlsZQ%3D%3D?line=1'>2</a>\u001b[0m \u001b[39mwith\u001b[39;00m mlflow\u001b[39m.\u001b[39mstart_run(run_name\u001b[39m=\u001b[39mrun_name, experiment_id \u001b[39m=\u001b[39m \u001b[39m3\u001b[39m, description\u001b[39m=\u001b[39mdescription, tags\u001b[39m=\u001b[39m{\u001b[39m\"\u001b[39m\u001b[39mmlflow.source.git.commit\u001b[39m\u001b[39m\"\u001b[39m: get_commit_version()}):\n\u001b[1;32m      <a href='vscode-notebook-cell:/home/leaddell/MLFLow%20Tutorial/tutorial_mlflow.ipynb#X11sZmlsZQ%3D%3D?line=2'>3</a>\u001b[0m     lr \u001b[39m=\u001b[39m ElasticNet(alpha\u001b[39m=\u001b[39malpha, l1_ratio\u001b[39m=\u001b[39ml1_ratio, random_state\u001b[39m=\u001b[39m\u001b[39m42\u001b[39m)\n\u001b[1;32m      <a href='vscode-notebook-cell:/home/leaddell/MLFLow%20Tutorial/tutorial_mlflow.ipynb#X11sZmlsZQ%3D%3D?line=3'>4</a>\u001b[0m     lr\u001b[39m.\u001b[39mfit(train_x, train_y)\n",
      "\u001b[1;32m/home/leaddell/MLFLow Tutorial/tutorial_mlflow.ipynb Cell 9\u001b[0m in \u001b[0;36mget_commit_version\u001b[0;34m()\u001b[0m\n\u001b[1;32m      <a href='vscode-notebook-cell:/home/leaddell/MLFLow%20Tutorial/tutorial_mlflow.ipynb#X11sZmlsZQ%3D%3D?line=0'>1</a>\u001b[0m \u001b[39mdef\u001b[39;00m \u001b[39mget_commit_version\u001b[39m():\n\u001b[0;32m----> <a href='vscode-notebook-cell:/home/leaddell/MLFLow%20Tutorial/tutorial_mlflow.ipynb#X11sZmlsZQ%3D%3D?line=1'>2</a>\u001b[0m     repo \u001b[39m=\u001b[39m git\u001b[39m.\u001b[39;49mRepo(search_parent_directories\u001b[39m=\u001b[39;49m\u001b[39mTrue\u001b[39;49;00m)\n\u001b[1;32m      <a href='vscode-notebook-cell:/home/leaddell/MLFLow%20Tutorial/tutorial_mlflow.ipynb#X11sZmlsZQ%3D%3D?line=2'>3</a>\u001b[0m     \u001b[39mreturn\u001b[39;00m repo\u001b[39m.\u001b[39mhead\u001b[39m.\u001b[39mobject\u001b[39m.\u001b[39mhexsha\n",
      "File \u001b[0;32m~/anaconda3/envs/test/lib/python3.9/site-packages/git/repo/base.py:224\u001b[0m, in \u001b[0;36mRepo.__init__\u001b[0;34m(self, path, odbt, search_parent_directories, expand_vars)\u001b[0m\n\u001b[1;32m    221\u001b[0m     \u001b[39mself\u001b[39m\u001b[39m.\u001b[39m_working_tree_dir \u001b[39m=\u001b[39m \u001b[39mNone\u001b[39;00m\n\u001b[1;32m    222\u001b[0m \u001b[39m# END working dir handling\u001b[39;00m\n\u001b[0;32m--> 224\u001b[0m \u001b[39mself\u001b[39m\u001b[39m.\u001b[39mworking_dir: Optional[PathLike] \u001b[39m=\u001b[39m \u001b[39mself\u001b[39m\u001b[39m.\u001b[39m_working_tree_dir \u001b[39mor\u001b[39;00m \u001b[39mself\u001b[39;49m\u001b[39m.\u001b[39;49mcommon_dir\n\u001b[1;32m    225\u001b[0m \u001b[39mself\u001b[39m\u001b[39m.\u001b[39mgit \u001b[39m=\u001b[39m \u001b[39mself\u001b[39m\u001b[39m.\u001b[39mGitCommandWrapperType(\u001b[39mself\u001b[39m\u001b[39m.\u001b[39mworking_dir)\n\u001b[1;32m    227\u001b[0m \u001b[39m# special handling, in special times\u001b[39;00m\n",
      "File \u001b[0;32m~/anaconda3/envs/test/lib/python3.9/site-packages/git/repo/base.py:307\u001b[0m, in \u001b[0;36mRepo.common_dir\u001b[0;34m(self)\u001b[0m\n\u001b[1;32m    304\u001b[0m     \u001b[39mreturn\u001b[39;00m \u001b[39mself\u001b[39m\u001b[39m.\u001b[39mgit_dir\n\u001b[1;32m    305\u001b[0m \u001b[39melse\u001b[39;00m:\n\u001b[1;32m    306\u001b[0m     \u001b[39m# or could return \"\"\u001b[39;00m\n\u001b[0;32m--> 307\u001b[0m     \u001b[39mraise\u001b[39;00m InvalidGitRepositoryError()\n",
      "\u001b[0;31mInvalidGitRepositoryError\u001b[0m: "
     ]
    }
   ],
   "source": [
    "artifact_path = \"artifacts\"\n",
    "with mlflow.start_run(run_name=run_name, experiment_id = 3, description=description, tags={\"mlflow.source.git.commit\": get_commit_version()}):\n",
    "    lr = ElasticNet(alpha=alpha, l1_ratio=l1_ratio, random_state=42)\n",
    "    lr.fit(train_x, train_y)\n",
    "\n",
    "    predicted_qualities = lr.predict(test_x)\n",
    "\n",
    "    (rmse, mae, r2) = eval_metrics(test_y, predicted_qualities)\n",
    "\n",
    "    print(\"Elasticnet model (alpha=%f, l1_ratio=%f):\" % (alpha, l1_ratio))\n",
    "    print(\"  RMSE: %s\" % rmse)\n",
    "    print(\"  MAE: %s\" % mae)\n",
    "    print(\"  R2: %s\" % r2)\n",
    "\n",
    "    mlflow.log_param(\"alpha\", alpha)\n",
    "    mlflow.log_param(\"l1_ratio\", l1_ratio)\n",
    "    mlflow.log_metric(\"rmse\", rmse)\n",
    "    mlflow.log_metric(\"r2\", r2)\n",
    "    mlflow.log_metric(\"mae\", mae)\n",
    "\n",
    "    test_x.to_csv(artifact_path+\"/test.csv\")\n",
    "    train_x.to_csv(artifact_path+\"/train.csv\")\n",
    "\n",
    "    savefig(rmse,mae,r2, artifact_path)\n",
    "\n",
    "    mlflow.log_artifact(artifact_path+\"/test.csv\", artifact_path=\"data\")\n",
    "    mlflow.log_artifact(artifact_path+\"/train.csv\", artifact_path=\"data\")\n",
    "    mlflow.log_artifact(artifact_path+\"/metrics.png\", artifact_path=\"images\")\n",
    "\n",
    "    tracking_url_type_store = urlparse(mlflow.get_tracking_uri()).scheme\n",
    "\n",
    "    # Model registry does not work with file store\n",
    "    if tracking_url_type_store != \"file\":\n",
    "\n",
    "        # Register the model\n",
    "        # There are other ways to use the Model Registry, which depends on the use case,\n",
    "        # please refer to the doc for more information:\n",
    "        # https://mlflow.org/docs/latest/model-registry.html#api-workflow\n",
    "        # model_info = mlflow.sklearn.log_model(lr, \"model\", registered_model_name=\"ElasticnetWineModel\")\n",
    "        model_info = mlflow.sklearn.log_model(lr, \"model\")\n",
    "    else:\n",
    "        mlflow.sklearn.log_model(lr, \"model\")"
   ]
  }
 ],
 "metadata": {
  "kernelspec": {
   "display_name": "Python 3.9.12 ('test')",
   "language": "python",
   "name": "python3"
  },
  "language_info": {
   "codemirror_mode": {
    "name": "ipython",
    "version": 3
   },
   "file_extension": ".py",
   "mimetype": "text/x-python",
   "name": "python",
   "nbconvert_exporter": "python",
   "pygments_lexer": "ipython3",
   "version": "3.9.12"
  },
  "orig_nbformat": 4,
  "vscode": {
   "interpreter": {
    "hash": "3ad85d9eef6076f9fdede944d11ad4ffeda908ba2ab7eb0f0b7e14a2170e6706"
   }
  }
 },
 "nbformat": 4,
 "nbformat_minor": 2
}
