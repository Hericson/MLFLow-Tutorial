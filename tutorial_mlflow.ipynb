{
 "cells": [
  {
   "cell_type": "code",
   "execution_count": 1,
   "metadata": {},
   "outputs": [],
   "source": [
    "#https://www.mlflow.org/docs/latest/tutorials-and-examples/tutorial.html\n",
    "#https://pedro-munoz.tech/how-to-setup-mlflow-in-production/\n",
    "import os\n",
    "import warnings\n",
    "import sys\n",
    "\n",
    "import pandas as pd\n",
    "import numpy as np\n",
    "from sklearn.metrics import mean_squared_error, mean_absolute_error, r2_score\n",
    "from sklearn.model_selection import train_test_split\n",
    "from sklearn.linear_model import ElasticNet\n",
    "from urllib.parse import urlparse\n",
    "import mlflow\n",
    "import mlflow.sklearn\n",
    "import matplotlib.pyplot as plt\n",
    "import git\n",
    "\n",
    "import logging\n",
    "\n",
    "logging.basicConfig(level=logging.WARN)\n",
    "logger = logging.getLogger(__name__)\n",
    "\n",
    "sys.path.append('../')"
   ]
  },
  {
   "cell_type": "code",
   "execution_count": 2,
   "metadata": {},
   "outputs": [],
   "source": [
    "#tracking\n",
    "mlflow.set_tracking_uri(\"http://127.0.0.1:5000/\")"
   ]
  },
  {
   "cell_type": "code",
   "execution_count": 3,
   "metadata": {},
   "outputs": [],
   "source": [
    "def eval_metrics(actual, pred):\n",
    "    rmse = np.sqrt(mean_squared_error(actual, pred))\n",
    "    mae = mean_absolute_error(actual, pred)\n",
    "    r2 = r2_score(actual, pred)\n",
    "    return rmse, mae, r2"
   ]
  },
  {
   "cell_type": "code",
   "execution_count": 4,
   "metadata": {},
   "outputs": [],
   "source": [
    "def render_mpl_table(data, col_width=3.0, row_height=0.625, font_size=14,\n",
    "                     header_color='#40466e', row_colors=['#f1f1f2', 'w'], edge_color='w',\n",
    "                     bbox=[0, 0, 1, 1], header_columns=0,\n",
    "                     ax=None, **kwargs):\n",
    "    if ax is None:\n",
    "        size = (np.array(data.shape[::-1]) + np.array([0, 1])) * np.array([col_width, row_height])\n",
    "        fig, ax = plt.subplots(figsize=size)\n",
    "        ax.axis('off')\n",
    "    mpl_table = ax.table(cellText=data.values, bbox=bbox, colLabels=data.columns, **kwargs)\n",
    "    mpl_table.auto_set_font_size(False)\n",
    "    mpl_table.set_fontsize(font_size)\n",
    "\n",
    "    for k, cell in mpl_table._cells.items():\n",
    "        cell.set_edgecolor(edge_color)\n",
    "        if k[0] == 0 or k[1] < header_columns:\n",
    "            cell.set_text_props(weight='bold', color='w')\n",
    "            cell.set_facecolor(header_color)\n",
    "        else:\n",
    "            cell.set_facecolor(row_colors[k[0]%len(row_colors) ])\n",
    "    return ax.get_figure(), ax"
   ]
  },
  {
   "cell_type": "code",
   "execution_count": 5,
   "metadata": {},
   "outputs": [],
   "source": [
    "def savefig(rmse, mae, r2, artifact_path):\n",
    "    df = pd.DataFrame()\n",
    "    df['mae'] = [mae.round(3)]\n",
    "    df['rmse'] = [rmse.round(3)]\n",
    "    df['r2'] = [r2.round(3)]\n",
    "\n",
    "    fig,ax = render_mpl_table(df, header_columns=0, col_width=2.0)\n",
    "    fig.savefig(artifact_path+\"/metrics.png\")  "
   ]
  },
  {
   "cell_type": "code",
   "execution_count": 6,
   "metadata": {},
   "outputs": [],
   "source": [
    "def get_commit_version():\n",
    "    repo = git.Repo(search_parent_directories=True)\n",
    "    return repo.head.object.hexsha"
   ]
  },
  {
   "cell_type": "code",
   "execution_count": 7,
   "metadata": {},
   "outputs": [],
   "source": [
    "warnings.filterwarnings(\"ignore\")\n",
    "np.random.seed(40)\n",
    "\n",
    "data = pd.read_csv(\"data/winequality-red.csv\", sep=\";\")\n",
    "\n",
    "# Split the data into training and test sets. (0.75, 0.25) split.\n",
    "train, test = train_test_split(data)\n",
    "\n",
    "# The predicted column is \"quality\" which is a scalar from [3, 9]\n",
    "train_x = train.drop([\"quality\"], axis=1)\n",
    "test_x = test.drop([\"quality\"], axis=1)\n",
    "train_y = train[[\"quality\"]]\n",
    "test_y = test[[\"quality\"]]"
   ]
  },
  {
   "cell_type": "code",
   "execution_count": 10,
   "metadata": {},
   "outputs": [
    {
     "ename": "ValueError",
     "evalue": "Reference at 'refs/heads/master' does not exist",
     "output_type": "error",
     "traceback": [
      "\u001b[0;31m---------------------------------------------------------------------------\u001b[0m",
      "\u001b[0;31mValueError\u001b[0m                                Traceback (most recent call last)",
      "\u001b[1;32m/home/leaddell/MLFLow-Tutorial/tutorial_mlflow.ipynb Cell 8\u001b[0m in \u001b[0;36m<cell line: 1>\u001b[0;34m()\u001b[0m\n\u001b[0;32m----> <a href='vscode-notebook-cell:/home/leaddell/MLFLow-Tutorial/tutorial_mlflow.ipynb#X12sZmlsZQ%3D%3D?line=0'>1</a>\u001b[0m get_commit_version()\n",
      "\u001b[1;32m/home/leaddell/MLFLow-Tutorial/tutorial_mlflow.ipynb Cell 8\u001b[0m in \u001b[0;36mget_commit_version\u001b[0;34m()\u001b[0m\n\u001b[1;32m      <a href='vscode-notebook-cell:/home/leaddell/MLFLow-Tutorial/tutorial_mlflow.ipynb#X12sZmlsZQ%3D%3D?line=0'>1</a>\u001b[0m \u001b[39mdef\u001b[39;00m \u001b[39mget_commit_version\u001b[39m():\n\u001b[1;32m      <a href='vscode-notebook-cell:/home/leaddell/MLFLow-Tutorial/tutorial_mlflow.ipynb#X12sZmlsZQ%3D%3D?line=1'>2</a>\u001b[0m     repo \u001b[39m=\u001b[39m git\u001b[39m.\u001b[39mRepo(search_parent_directories\u001b[39m=\u001b[39m\u001b[39mTrue\u001b[39;00m)\n\u001b[0;32m----> <a href='vscode-notebook-cell:/home/leaddell/MLFLow-Tutorial/tutorial_mlflow.ipynb#X12sZmlsZQ%3D%3D?line=2'>3</a>\u001b[0m     \u001b[39mreturn\u001b[39;00m repo\u001b[39m.\u001b[39;49mhead\u001b[39m.\u001b[39;49mobject\u001b[39m.\u001b[39mhexsha\n",
      "File \u001b[0;32m~/anaconda3/envs/test/lib/python3.9/site-packages/git/refs/symbolic.py:210\u001b[0m, in \u001b[0;36mSymbolicReference._get_object\u001b[0;34m(self)\u001b[0m\n\u001b[1;32m    204\u001b[0m \u001b[39m\"\"\"\u001b[39;00m\n\u001b[1;32m    205\u001b[0m \u001b[39m:return:\u001b[39;00m\n\u001b[1;32m    206\u001b[0m \u001b[39m    The object our ref currently refers to. Refs can be cached, they will\u001b[39;00m\n\u001b[1;32m    207\u001b[0m \u001b[39m    always point to the actual object as it gets re-created on each query\"\"\"\u001b[39;00m\n\u001b[1;32m    208\u001b[0m \u001b[39m# have to be dynamic here as we may be a tag which can point to anything\u001b[39;00m\n\u001b[1;32m    209\u001b[0m \u001b[39m# Our path will be resolved to the hexsha which will be used accordingly\u001b[39;00m\n\u001b[0;32m--> 210\u001b[0m \u001b[39mreturn\u001b[39;00m Object\u001b[39m.\u001b[39mnew_from_sha(\u001b[39mself\u001b[39m\u001b[39m.\u001b[39mrepo, hex_to_bin(\u001b[39mself\u001b[39;49m\u001b[39m.\u001b[39;49mdereference_recursive(\u001b[39mself\u001b[39;49m\u001b[39m.\u001b[39;49mrepo, \u001b[39mself\u001b[39;49m\u001b[39m.\u001b[39;49mpath)))\n",
      "File \u001b[0;32m~/anaconda3/envs/test/lib/python3.9/site-packages/git/refs/symbolic.py:151\u001b[0m, in \u001b[0;36mSymbolicReference.dereference_recursive\u001b[0;34m(cls, repo, ref_path)\u001b[0m\n\u001b[1;32m    145\u001b[0m \u001b[39m\"\"\"\u001b[39;00m\n\u001b[1;32m    146\u001b[0m \u001b[39m:return: hexsha stored in the reference at the given ref_path, recursively dereferencing all\u001b[39;00m\n\u001b[1;32m    147\u001b[0m \u001b[39m    intermediate references as required\u001b[39;00m\n\u001b[1;32m    148\u001b[0m \u001b[39m:param repo: the repository containing the reference at ref_path\"\"\"\u001b[39;00m\n\u001b[1;32m    150\u001b[0m \u001b[39mwhile\u001b[39;00m \u001b[39mTrue\u001b[39;00m:\n\u001b[0;32m--> 151\u001b[0m     hexsha, ref_path \u001b[39m=\u001b[39m \u001b[39mcls\u001b[39;49m\u001b[39m.\u001b[39;49m_get_ref_info(repo, ref_path)\n\u001b[1;32m    152\u001b[0m     \u001b[39mif\u001b[39;00m hexsha \u001b[39mis\u001b[39;00m \u001b[39mnot\u001b[39;00m \u001b[39mNone\u001b[39;00m:\n\u001b[1;32m    153\u001b[0m         \u001b[39mreturn\u001b[39;00m hexsha\n",
      "File \u001b[0;32m~/anaconda3/envs/test/lib/python3.9/site-packages/git/refs/symbolic.py:201\u001b[0m, in \u001b[0;36mSymbolicReference._get_ref_info\u001b[0;34m(cls, repo, ref_path)\u001b[0m\n\u001b[1;32m    196\u001b[0m \u001b[39m@classmethod\u001b[39m\n\u001b[1;32m    197\u001b[0m \u001b[39mdef\u001b[39;00m \u001b[39m_get_ref_info\u001b[39m(\u001b[39mcls\u001b[39m, repo: \u001b[39m'\u001b[39m\u001b[39mRepo\u001b[39m\u001b[39m'\u001b[39m, ref_path: Union[PathLike, \u001b[39mNone\u001b[39;00m]) \u001b[39m-\u001b[39m\u001b[39m>\u001b[39m Union[Tuple[\u001b[39mstr\u001b[39m, \u001b[39mNone\u001b[39;00m], Tuple[\u001b[39mNone\u001b[39;00m, \u001b[39mstr\u001b[39m]]:\n\u001b[1;32m    198\u001b[0m     \u001b[39m\"\"\"Return: (str(sha), str(target_ref_path)) if available, the sha the file at\u001b[39;00m\n\u001b[1;32m    199\u001b[0m \u001b[39m    rela_path points to, or None. target_ref_path is the reference we\u001b[39;00m\n\u001b[1;32m    200\u001b[0m \u001b[39m    point to, or None\"\"\"\u001b[39;00m\n\u001b[0;32m--> 201\u001b[0m     \u001b[39mreturn\u001b[39;00m \u001b[39mcls\u001b[39;49m\u001b[39m.\u001b[39;49m_get_ref_info_helper(repo, ref_path)\n",
      "File \u001b[0;32m~/anaconda3/envs/test/lib/python3.9/site-packages/git/refs/symbolic.py:184\u001b[0m, in \u001b[0;36mSymbolicReference._get_ref_info_helper\u001b[0;34m(cls, repo, ref_path)\u001b[0m\n\u001b[1;32m    181\u001b[0m     \u001b[39m# END for each packed ref\u001b[39;00m\n\u001b[1;32m    182\u001b[0m \u001b[39m# END handle packed refs\u001b[39;00m\n\u001b[1;32m    183\u001b[0m \u001b[39mif\u001b[39;00m tokens \u001b[39mis\u001b[39;00m \u001b[39mNone\u001b[39;00m:\n\u001b[0;32m--> 184\u001b[0m     \u001b[39mraise\u001b[39;00m \u001b[39mValueError\u001b[39;00m(\u001b[39m\"\u001b[39m\u001b[39mReference at \u001b[39m\u001b[39m%r\u001b[39;00m\u001b[39m does not exist\u001b[39m\u001b[39m\"\u001b[39m \u001b[39m%\u001b[39m ref_path)\n\u001b[1;32m    186\u001b[0m \u001b[39m# is it a reference ?\u001b[39;00m\n\u001b[1;32m    187\u001b[0m \u001b[39mif\u001b[39;00m tokens[\u001b[39m0\u001b[39m] \u001b[39m==\u001b[39m \u001b[39m'\u001b[39m\u001b[39mref:\u001b[39m\u001b[39m'\u001b[39m:\n",
      "\u001b[0;31mValueError\u001b[0m: Reference at 'refs/heads/master' does not exist"
     ]
    }
   ],
   "source": [
    "get_commit_version()"
   ]
  },
  {
   "cell_type": "code",
   "execution_count": 8,
   "metadata": {},
   "outputs": [],
   "source": [
    "alpha = 0.2\n",
    "l1_ratio = 1\n",
    "run_name = 'Tutorial MLFlow - ML Lead'\n",
    "description = 'Exemplo'\n",
    "experiment_id = 3"
   ]
  },
  {
   "cell_type": "code",
   "execution_count": 9,
   "metadata": {},
   "outputs": [
    {
     "ename": "ValueError",
     "evalue": "Reference at 'refs/heads/master' does not exist",
     "output_type": "error",
     "traceback": [
      "\u001b[0;31m---------------------------------------------------------------------------\u001b[0m",
      "\u001b[0;31mValueError\u001b[0m                                Traceback (most recent call last)",
      "\u001b[1;32m/home/leaddell/MLFLow-Tutorial/tutorial_mlflow.ipynb Cell 9\u001b[0m in \u001b[0;36m<cell line: 2>\u001b[0;34m()\u001b[0m\n\u001b[1;32m      <a href='vscode-notebook-cell:/home/leaddell/MLFLow-Tutorial/tutorial_mlflow.ipynb#X11sZmlsZQ%3D%3D?line=0'>1</a>\u001b[0m artifact_path \u001b[39m=\u001b[39m \u001b[39m\"\u001b[39m\u001b[39martifacts\u001b[39m\u001b[39m\"\u001b[39m\n\u001b[0;32m----> <a href='vscode-notebook-cell:/home/leaddell/MLFLow-Tutorial/tutorial_mlflow.ipynb#X11sZmlsZQ%3D%3D?line=1'>2</a>\u001b[0m \u001b[39mwith\u001b[39;00m mlflow\u001b[39m.\u001b[39mstart_run(run_name\u001b[39m=\u001b[39mrun_name, experiment_id \u001b[39m=\u001b[39m \u001b[39m3\u001b[39m, description\u001b[39m=\u001b[39mdescription, tags\u001b[39m=\u001b[39m{\u001b[39m\"\u001b[39m\u001b[39mmlflow.source.git.commit\u001b[39m\u001b[39m\"\u001b[39m: get_commit_version()}):\n\u001b[1;32m      <a href='vscode-notebook-cell:/home/leaddell/MLFLow-Tutorial/tutorial_mlflow.ipynb#X11sZmlsZQ%3D%3D?line=2'>3</a>\u001b[0m     lr \u001b[39m=\u001b[39m ElasticNet(alpha\u001b[39m=\u001b[39malpha, l1_ratio\u001b[39m=\u001b[39ml1_ratio, random_state\u001b[39m=\u001b[39m\u001b[39m42\u001b[39m)\n\u001b[1;32m      <a href='vscode-notebook-cell:/home/leaddell/MLFLow-Tutorial/tutorial_mlflow.ipynb#X11sZmlsZQ%3D%3D?line=3'>4</a>\u001b[0m     lr\u001b[39m.\u001b[39mfit(train_x, train_y)\n",
      "\u001b[1;32m/home/leaddell/MLFLow-Tutorial/tutorial_mlflow.ipynb Cell 9\u001b[0m in \u001b[0;36mget_commit_version\u001b[0;34m()\u001b[0m\n\u001b[1;32m      <a href='vscode-notebook-cell:/home/leaddell/MLFLow-Tutorial/tutorial_mlflow.ipynb#X11sZmlsZQ%3D%3D?line=0'>1</a>\u001b[0m \u001b[39mdef\u001b[39;00m \u001b[39mget_commit_version\u001b[39m():\n\u001b[1;32m      <a href='vscode-notebook-cell:/home/leaddell/MLFLow-Tutorial/tutorial_mlflow.ipynb#X11sZmlsZQ%3D%3D?line=1'>2</a>\u001b[0m     repo \u001b[39m=\u001b[39m git\u001b[39m.\u001b[39mRepo(search_parent_directories\u001b[39m=\u001b[39m\u001b[39mTrue\u001b[39;00m)\n\u001b[0;32m----> <a href='vscode-notebook-cell:/home/leaddell/MLFLow-Tutorial/tutorial_mlflow.ipynb#X11sZmlsZQ%3D%3D?line=2'>3</a>\u001b[0m     \u001b[39mreturn\u001b[39;00m repo\u001b[39m.\u001b[39;49mhead\u001b[39m.\u001b[39;49mobject\u001b[39m.\u001b[39mhexsha\n",
      "File \u001b[0;32m~/anaconda3/envs/test/lib/python3.9/site-packages/git/refs/symbolic.py:210\u001b[0m, in \u001b[0;36mSymbolicReference._get_object\u001b[0;34m(self)\u001b[0m\n\u001b[1;32m    204\u001b[0m \u001b[39m\"\"\"\u001b[39;00m\n\u001b[1;32m    205\u001b[0m \u001b[39m:return:\u001b[39;00m\n\u001b[1;32m    206\u001b[0m \u001b[39m    The object our ref currently refers to. Refs can be cached, they will\u001b[39;00m\n\u001b[1;32m    207\u001b[0m \u001b[39m    always point to the actual object as it gets re-created on each query\"\"\"\u001b[39;00m\n\u001b[1;32m    208\u001b[0m \u001b[39m# have to be dynamic here as we may be a tag which can point to anything\u001b[39;00m\n\u001b[1;32m    209\u001b[0m \u001b[39m# Our path will be resolved to the hexsha which will be used accordingly\u001b[39;00m\n\u001b[0;32m--> 210\u001b[0m \u001b[39mreturn\u001b[39;00m Object\u001b[39m.\u001b[39mnew_from_sha(\u001b[39mself\u001b[39m\u001b[39m.\u001b[39mrepo, hex_to_bin(\u001b[39mself\u001b[39;49m\u001b[39m.\u001b[39;49mdereference_recursive(\u001b[39mself\u001b[39;49m\u001b[39m.\u001b[39;49mrepo, \u001b[39mself\u001b[39;49m\u001b[39m.\u001b[39;49mpath)))\n",
      "File \u001b[0;32m~/anaconda3/envs/test/lib/python3.9/site-packages/git/refs/symbolic.py:151\u001b[0m, in \u001b[0;36mSymbolicReference.dereference_recursive\u001b[0;34m(cls, repo, ref_path)\u001b[0m\n\u001b[1;32m    145\u001b[0m \u001b[39m\"\"\"\u001b[39;00m\n\u001b[1;32m    146\u001b[0m \u001b[39m:return: hexsha stored in the reference at the given ref_path, recursively dereferencing all\u001b[39;00m\n\u001b[1;32m    147\u001b[0m \u001b[39m    intermediate references as required\u001b[39;00m\n\u001b[1;32m    148\u001b[0m \u001b[39m:param repo: the repository containing the reference at ref_path\"\"\"\u001b[39;00m\n\u001b[1;32m    150\u001b[0m \u001b[39mwhile\u001b[39;00m \u001b[39mTrue\u001b[39;00m:\n\u001b[0;32m--> 151\u001b[0m     hexsha, ref_path \u001b[39m=\u001b[39m \u001b[39mcls\u001b[39;49m\u001b[39m.\u001b[39;49m_get_ref_info(repo, ref_path)\n\u001b[1;32m    152\u001b[0m     \u001b[39mif\u001b[39;00m hexsha \u001b[39mis\u001b[39;00m \u001b[39mnot\u001b[39;00m \u001b[39mNone\u001b[39;00m:\n\u001b[1;32m    153\u001b[0m         \u001b[39mreturn\u001b[39;00m hexsha\n",
      "File \u001b[0;32m~/anaconda3/envs/test/lib/python3.9/site-packages/git/refs/symbolic.py:201\u001b[0m, in \u001b[0;36mSymbolicReference._get_ref_info\u001b[0;34m(cls, repo, ref_path)\u001b[0m\n\u001b[1;32m    196\u001b[0m \u001b[39m@classmethod\u001b[39m\n\u001b[1;32m    197\u001b[0m \u001b[39mdef\u001b[39;00m \u001b[39m_get_ref_info\u001b[39m(\u001b[39mcls\u001b[39m, repo: \u001b[39m'\u001b[39m\u001b[39mRepo\u001b[39m\u001b[39m'\u001b[39m, ref_path: Union[PathLike, \u001b[39mNone\u001b[39;00m]) \u001b[39m-\u001b[39m\u001b[39m>\u001b[39m Union[Tuple[\u001b[39mstr\u001b[39m, \u001b[39mNone\u001b[39;00m], Tuple[\u001b[39mNone\u001b[39;00m, \u001b[39mstr\u001b[39m]]:\n\u001b[1;32m    198\u001b[0m     \u001b[39m\"\"\"Return: (str(sha), str(target_ref_path)) if available, the sha the file at\u001b[39;00m\n\u001b[1;32m    199\u001b[0m \u001b[39m    rela_path points to, or None. target_ref_path is the reference we\u001b[39;00m\n\u001b[1;32m    200\u001b[0m \u001b[39m    point to, or None\"\"\"\u001b[39;00m\n\u001b[0;32m--> 201\u001b[0m     \u001b[39mreturn\u001b[39;00m \u001b[39mcls\u001b[39;49m\u001b[39m.\u001b[39;49m_get_ref_info_helper(repo, ref_path)\n",
      "File \u001b[0;32m~/anaconda3/envs/test/lib/python3.9/site-packages/git/refs/symbolic.py:184\u001b[0m, in \u001b[0;36mSymbolicReference._get_ref_info_helper\u001b[0;34m(cls, repo, ref_path)\u001b[0m\n\u001b[1;32m    181\u001b[0m     \u001b[39m# END for each packed ref\u001b[39;00m\n\u001b[1;32m    182\u001b[0m \u001b[39m# END handle packed refs\u001b[39;00m\n\u001b[1;32m    183\u001b[0m \u001b[39mif\u001b[39;00m tokens \u001b[39mis\u001b[39;00m \u001b[39mNone\u001b[39;00m:\n\u001b[0;32m--> 184\u001b[0m     \u001b[39mraise\u001b[39;00m \u001b[39mValueError\u001b[39;00m(\u001b[39m\"\u001b[39m\u001b[39mReference at \u001b[39m\u001b[39m%r\u001b[39;00m\u001b[39m does not exist\u001b[39m\u001b[39m\"\u001b[39m \u001b[39m%\u001b[39m ref_path)\n\u001b[1;32m    186\u001b[0m \u001b[39m# is it a reference ?\u001b[39;00m\n\u001b[1;32m    187\u001b[0m \u001b[39mif\u001b[39;00m tokens[\u001b[39m0\u001b[39m] \u001b[39m==\u001b[39m \u001b[39m'\u001b[39m\u001b[39mref:\u001b[39m\u001b[39m'\u001b[39m:\n",
      "\u001b[0;31mValueError\u001b[0m: Reference at 'refs/heads/master' does not exist"
     ]
    }
   ],
   "source": [
    "artifact_path = \"artifacts\"\n",
    "with mlflow.start_run(run_name=run_name, experiment_id = 3, description=description, tags={\"mlflow.source.git.commit\": get_commit_version()}):\n",
    "    lr = ElasticNet(alpha=alpha, l1_ratio=l1_ratio, random_state=42)\n",
    "    lr.fit(train_x, train_y)\n",
    "\n",
    "    predicted_qualities = lr.predict(test_x)\n",
    "\n",
    "    (rmse, mae, r2) = eval_metrics(test_y, predicted_qualities)\n",
    "\n",
    "    print(\"Elasticnet model (alpha=%f, l1_ratio=%f):\" % (alpha, l1_ratio))\n",
    "    print(\"  RMSE: %s\" % rmse)\n",
    "    print(\"  MAE: %s\" % mae)\n",
    "    print(\"  R2: %s\" % r2)\n",
    "\n",
    "    mlflow.log_param(\"alpha\", alpha)\n",
    "    mlflow.log_param(\"l1_ratio\", l1_ratio)\n",
    "    mlflow.log_metric(\"rmse\", rmse)\n",
    "    mlflow.log_metric(\"r2\", r2)\n",
    "    mlflow.log_metric(\"mae\", mae)\n",
    "\n",
    "    test_x.to_csv(artifact_path+\"/test.csv\")\n",
    "    train_x.to_csv(artifact_path+\"/train.csv\")\n",
    "\n",
    "    savefig(rmse,mae,r2, artifact_path)\n",
    "\n",
    "    mlflow.log_artifact(artifact_path+\"/test.csv\", artifact_path=\"data\")\n",
    "    mlflow.log_artifact(artifact_path+\"/train.csv\", artifact_path=\"data\")\n",
    "    mlflow.log_artifact(artifact_path+\"/metrics.png\", artifact_path=\"images\")\n",
    "\n",
    "    tracking_url_type_store = urlparse(mlflow.get_tracking_uri()).scheme\n",
    "\n",
    "    # Model registry does not work with file store\n",
    "    if tracking_url_type_store != \"file\":\n",
    "\n",
    "        # Register the model\n",
    "        # There are other ways to use the Model Registry, which depends on the use case,\n",
    "        # please refer to the doc for more information:\n",
    "        # https://mlflow.org/docs/latest/model-registry.html#api-workflow\n",
    "        # model_info = mlflow.sklearn.log_model(lr, \"model\", registered_model_name=\"ElasticnetWineModel\")\n",
    "        model_info = mlflow.sklearn.log_model(lr, \"model\")\n",
    "    else:\n",
    "        mlflow.sklearn.log_model(lr, \"model\")"
   ]
  }
 ],
 "metadata": {
  "kernelspec": {
   "display_name": "Python 3.9.12 ('test')",
   "language": "python",
   "name": "python3"
  },
  "language_info": {
   "codemirror_mode": {
    "name": "ipython",
    "version": 3
   },
   "file_extension": ".py",
   "mimetype": "text/x-python",
   "name": "python",
   "nbconvert_exporter": "python",
   "pygments_lexer": "ipython3",
   "version": "3.9.12"
  },
  "orig_nbformat": 4,
  "vscode": {
   "interpreter": {
    "hash": "3ad85d9eef6076f9fdede944d11ad4ffeda908ba2ab7eb0f0b7e14a2170e6706"
   }
  }
 },
 "nbformat": 4,
 "nbformat_minor": 2
}
