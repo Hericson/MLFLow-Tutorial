{
 "cells": [
  {
   "cell_type": "code",
   "execution_count": 1,
   "metadata": {},
   "outputs": [
    {
     "name": "stderr",
     "output_type": "stream",
     "text": [
      "2023/06/19 09:48:32 INFO mlflow.tracking.fluent: Autologging successfully enabled for sklearn.\n",
      "2023/06/19 09:48:34 WARNING mlflow.utils.autologging_utils: MLflow autologging encountered a warning: \"/home/hericson/anaconda3/envs/my_projects/lib/python3.9/site-packages/_distutils_hack/__init__.py:33: UserWarning: Setuptools is replacing distutils.\"\n"
     ]
    },
    {
     "name": "stdout",
     "output_type": "stream",
     "text": [
      "run_id: a730f3429c9f4e20881836db18adf0a9\n",
      "artifacts: ['model/MLmodel', 'model/conda.yaml', 'model/model.pkl', 'model/python_env.yaml', 'model/requirements.txt']\n",
      "params: {'copy_X': 'True', 'fit_intercept': 'True', 'n_jobs': 'None', 'positive': 'False'}\n",
      "metrics: {'training_mean_squared_error': 1.9721522630525295e-31, 'training_mean_absolute_error': 2.220446049250313e-16, 'training_r2_score': 1.0, 'training_root_mean_squared_error': 4.440892098500626e-16, 'training_score': 1.0}\n",
      "tags: {'estimator_name': 'LinearRegression', 'estimator_class': 'sklearn.linear_model._base.LinearRegression'}\n"
     ]
    }
   ],
   "source": [
    "import numpy as np\n",
    "import mlflow.sklearn\n",
    "from mlflow import MlflowClient\n",
    "from sklearn.linear_model import LinearRegression\n",
    "\n",
    "\n",
    "def print_auto_logged_info(r):\n",
    "    tags = {k: v for k, v in r.data.tags.items() if not k.startswith(\"mlflow.\")}\n",
    "    artifacts = [f.path for f in MlflowClient().list_artifacts(r.info.run_id, \"model\")]\n",
    "    print(\"run_id: {}\".format(r.info.run_id))\n",
    "    print(\"artifacts: {}\".format(artifacts))\n",
    "    print(\"params: {}\".format(r.data.params))\n",
    "    print(\"metrics: {}\".format(r.data.metrics))\n",
    "    print(\"tags: {}\".format(tags))\n",
    "\n",
    "\n",
    "# prepare training data\n",
    "X = np.array([[1, 1], [1, 2], [2, 2], [2, 3]])\n",
    "y = np.dot(X, np.array([1, 2])) + 3\n",
    "\n",
    "# Auto log all the parameters, metrics, and artifacts\n",
    "mlflow.autolog()\n",
    "model = LinearRegression()\n",
    "with mlflow.start_run() as run:\n",
    "    model.fit(X, y)\n",
    "\n",
    "# fetch the auto logged parameters and metrics for ended run\n",
    "print_auto_logged_info(mlflow.get_run(run_id=run.info.run_id))"
   ]
  }
 ],
 "metadata": {
  "kernelspec": {
   "display_name": "my_projects",
   "language": "python",
   "name": "python3"
  },
  "language_info": {
   "codemirror_mode": {
    "name": "ipython",
    "version": 3
   },
   "file_extension": ".py",
   "mimetype": "text/x-python",
   "name": "python",
   "nbconvert_exporter": "python",
   "pygments_lexer": "ipython3",
   "version": "3.9.16"
  },
  "orig_nbformat": 4
 },
 "nbformat": 4,
 "nbformat_minor": 2
}
