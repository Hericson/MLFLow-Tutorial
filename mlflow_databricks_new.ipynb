{
 "cells": [
  {
   "attachments": {},
   "cell_type": "markdown",
   "metadata": {},
   "source": [
    "# MLflow Training Tutorial\n",
    "\n",
    "This `train.pynb` Jupyter notebook predicts the quality of wine using [sklearn.linear_model.ElasticNet](http://scikit-learn.org/stable/modules/generated/sklearn.linear_model.ElasticNet.html).  \n",
    "\n",
    "> This is the Jupyter notebook version of the `train.py` example\n",
    "\n",
    "Attribution\n",
    "* The data set used in this example is from http://archive.ics.uci.edu/ml/datasets/Wine+Quality\n",
    "* P. Cortez, A. Cerdeira, F. Almeida, T. Matos and J. Reis.\n",
    "* Modeling wine preferences by data mining from physicochemical properties. In Decision Support Systems, Elsevier, 47(4):547-553, 2009.\n"
   ]
  },
  {
   "cell_type": "code",
   "execution_count": 30,
   "metadata": {},
   "outputs": [],
   "source": [
    "import logging\n",
    "import warnings\n",
    "\n",
    "import numpy as np\n",
    "import pandas as pd\n",
    "from sklearn.linear_model import ElasticNet\n",
    "from sklearn.metrics import mean_absolute_error, mean_squared_error, r2_score\n",
    "from sklearn.model_selection import train_test_split\n",
    "import matplotlib.pyplot as plt\n",
    "import mlflow\n",
    "import mlflow.sklearn\n",
    "from mlflow.models import infer_signature\n",
    "\n",
    "logging.basicConfig(level=logging.WARN)\n",
    "logger = logging.getLogger(__name__)"
   ]
  },
  {
   "cell_type": "code",
   "execution_count": 31,
   "metadata": {},
   "outputs": [],
   "source": [
    "def render_mpl_table(data, col_width=3.0, row_height=0.625, font_size=14,\n",
    "                     header_color='#40466e', row_colors=['#f1f1f2', 'w'], edge_color='w',\n",
    "                     bbox=[0, 0, 1, 1], header_columns=0,\n",
    "                     ax=None, **kwargs):\n",
    "    if ax is None:\n",
    "        size = (np.array(data.shape[::-1]) + np.array([0, 1])) * np.array([col_width, row_height])\n",
    "        fig, ax = plt.subplots(figsize=size)\n",
    "        ax.axis('off')\n",
    "    mpl_table = ax.table(cellText=data.values, bbox=bbox, colLabels=data.columns, **kwargs)\n",
    "    mpl_table.auto_set_font_size(False)\n",
    "    mpl_table.set_fontsize(font_size)\n",
    "\n",
    "    for k, cell in mpl_table._cells.items():\n",
    "        cell.set_edgecolor(edge_color)\n",
    "        if k[0] == 0 or k[1] < header_columns:\n",
    "            cell.set_text_props(weight='bold', color='w')\n",
    "            cell.set_facecolor(header_color)\n",
    "        else:\n",
    "            cell.set_facecolor(row_colors[k[0]%len(row_colors) ])\n",
    "    return ax.get_figure(), ax"
   ]
  },
  {
   "cell_type": "code",
   "execution_count": 32,
   "metadata": {},
   "outputs": [],
   "source": [
    "def savefig(rmse, mae, r2, artifact_path):\n",
    "    df = pd.DataFrame()\n",
    "    df['mae'] = [mae.round(3)]\n",
    "    df['rmse'] = [rmse.round(3)]\n",
    "    df['r2'] = [r2.round(3)]\n",
    "\n",
    "    fig,ax = render_mpl_table(df, header_columns=0, col_width=2.0)\n",
    "    fig.savefig(artifact_path+\"/metrics.png\")  "
   ]
  },
  {
   "cell_type": "code",
   "execution_count": 33,
   "metadata": {},
   "outputs": [],
   "source": [
    "def eval_metrics(actual, pred):\n",
    "        rmse = np.sqrt(mean_squared_error(actual, pred))\n",
    "        mae = mean_absolute_error(actual, pred)\n",
    "        r2 = r2_score(actual, pred)\n",
    "        return rmse, mae, r2"
   ]
  },
  {
   "cell_type": "markdown",
   "metadata": {},
   "source": [
    "### Run Server on Terminal\n",
    "mlflow server --backend-store-uri 'sqlite:///mlflow.db' --artifacts-destination mlflow/artifacts_root --serve-artifacts"
   ]
  },
  {
   "cell_type": "code",
   "execution_count": 34,
   "metadata": {},
   "outputs": [],
   "source": [
    "#export MLFLOW_TRACKING_URI = http://127.0.0.1:5000/\n",
    "# print(os.getenv('MLFLOW_TRACKING_URI'))\n",
    "mlflow.set_tracking_uri('http://127.0.0.1:5000/')\n",
    "artifact_path = \"artifacts\""
   ]
  },
  {
   "cell_type": "code",
   "execution_count": 35,
   "metadata": {},
   "outputs": [],
   "source": [
    "# Wine Quality Sample\n",
    "def run_train(in_alpha, in_l1_ratio, train_x, test_x, train_y, test_y):\n",
    "\n",
    "    warnings.filterwarnings(\"ignore\")\n",
    "    np.random.seed(40)\n",
    "\n",
    "    # Set default values if no alpha is provided\n",
    "    alpha = 0.5 if float(in_alpha) is None else float(in_alpha)\n",
    "\n",
    "    # Set default values if no l1_ratio is provided\n",
    "    l1_ratio = 0.5 if float(in_l1_ratio) is None else float(in_l1_ratio)\n",
    "\n",
    "    # Useful for multiple runs (only doing one run in this sample notebook)\n",
    "    with mlflow.start_run():\n",
    "        # Execute ElasticNet\n",
    "        lr = ElasticNet(alpha=alpha, l1_ratio=l1_ratio, random_state=42)\n",
    "        lr.fit(train_x, train_y)\n",
    "\n",
    "        # Evaluate Metrics\n",
    "        predicted_qualities = lr.predict(test_x)\n",
    "        (rmse, mae, r2) = eval_metrics(test_y, predicted_qualities)\n",
    "\n",
    "        # Print out metrics\n",
    "        print(f\"Elasticnet model (alpha={alpha:f}, l1_ratio={l1_ratio:f}):\")\n",
    "        print(f\"  RMSE: {rmse}\")\n",
    "        print(f\"  MAE: {mae}\")\n",
    "        print(f\"  R2: {r2}\")\n",
    "\n",
    "        # Infer model signature\n",
    "        predictions = lr.predict(train_x)\n",
    "        signature = infer_signature(train_x, predictions)\n",
    "\n",
    "        # Log parameter, metrics, and model to MLflow\n",
    "        mlflow.log_param(\"alpha\", alpha)\n",
    "        mlflow.log_param(\"l1_ratio\", l1_ratio)\n",
    "        mlflow.log_metric(\"rmse\", rmse)\n",
    "        mlflow.log_metric(\"r2\", r2)\n",
    "        mlflow.log_metric(\"mae\", mae)\n",
    "\n",
    "        test_x.to_csv(artifact_path+\"/test.csv\")\n",
    "        train_x.to_csv(artifact_path+\"/train.csv\")\n",
    "        test_y.to_csv(artifact_path+\"/y_test.csv\")\n",
    "        pd.Series(predicted_qualities).to_csv(artifact_path+\"/y_predict.csv\")\n",
    "\n",
    "        savefig(rmse,mae,r2, artifact_path)\n",
    "\n",
    "        mlflow.log_artifact(artifact_path+\"/test.csv\", artifact_path=\"data\")\n",
    "        mlflow.log_artifact(artifact_path+\"/train.csv\", artifact_path=\"data\")\n",
    "        mlflow.log_artifact(artifact_path+\"/y_test.csv\", artifact_path=\"data\")\n",
    "        mlflow.log_artifact(artifact_path+\"/y_predict.csv\", artifact_path=\"data\")\n",
    "        mlflow.log_artifact(artifact_path+\"/metrics.png\", artifact_path=\"images\")\n",
    "        mlflow.set_tag('Train Size', 0.75)\n",
    "        mlflow.set_tag('Test Size', 0.25)\n",
    "\n",
    "        mlflow.sklearn.log_model(lr, \"model\", signature=signature)"
   ]
  },
  {
   "cell_type": "code",
   "execution_count": 36,
   "metadata": {},
   "outputs": [],
   "source": [
    "data = pd.read_csv(\"data/winequality-red.csv\", sep=\";\")\n",
    "\n",
    "# Split the data into training and test sets. (0.75, 0.25) split.\n",
    "train, test = train_test_split(data)\n",
    "\n",
    "# The predicted column is \"quality\" which is a scalar from [3, 9]\n",
    "train_x = train.drop([\"quality\"], axis=1)\n",
    "test_x = test.drop([\"quality\"], axis=1)\n",
    "train_y = train[[\"quality\"]]\n",
    "test_y = test[[\"quality\"]]"
   ]
  },
  {
   "cell_type": "code",
   "execution_count": 37,
   "metadata": {},
   "outputs": [
    {
     "name": "stdout",
     "output_type": "stream",
     "text": [
      "Elasticnet model (alpha=0.500000, l1_ratio=0.500000):\n",
      "  RMSE: 0.793164022927685\n",
      "  MAE: 0.6271946374319586\n",
      "  R2: 0.10862644997792636\n"
     ]
    },
    {
     "name": "stderr",
     "output_type": "stream",
     "text": [
      "2024/09/05 11:52:19 INFO mlflow.tracking._tracking_service.client: 🏃 View run languid-lamb-187 at: http://127.0.0.1:5000/#/experiments/0/runs/087d36cd62604b7197254d66a69c88f5.\n",
      "2024/09/05 11:52:19 INFO mlflow.tracking._tracking_service.client: 🧪 View experiment at: http://127.0.0.1:5000/#/experiments/0.\n"
     ]
    },
    {
     "data": {
      "image/png": "[encoded data removed]",
      "text/plain": [
       "<Figure size 600x125 with 1 Axes>"
      ]
     },
     "metadata": {},
     "output_type": "display_data"
    }
   ],
   "source": [
    "run_train(0.5, 0.5, train_x, test_x, train_y, test_y)"
   ]
  },
  {
   "cell_type": "code",
   "execution_count": 38,
   "metadata": {},
   "outputs": [
    {
     "name": "stdout",
     "output_type": "stream",
     "text": [
      "Elasticnet model (alpha=0.200000, l1_ratio=0.200000):\n",
      "  RMSE: 0.7336400911821402\n",
      "  MAE: 0.5643841279275427\n",
      "  R2: 0.2373946606358417\n"
     ]
    },
    {
     "name": "stderr",
     "output_type": "stream",
     "text": [
      "2024/09/05 11:52:22 INFO mlflow.tracking._tracking_service.client: 🏃 View run bustling-asp-269 at: http://127.0.0.1:5000/#/experiments/0/runs/cddb5cfc6bf64153992104e93913d257.\n",
      "2024/09/05 11:52:22 INFO mlflow.tracking._tracking_service.client: 🧪 View experiment at: http://127.0.0.1:5000/#/experiments/0.\n"
     ]
    },
    {
     "data": {
      "image/png": "[encoded data removed]",
      "text/plain": [
       "<Figure size 600x125 with 1 Axes>"
      ]
     },
     "metadata": {},
     "output_type": "display_data"
    }
   ],
   "source": [
    "run_train(0.2, 0.2, train_x, test_x, train_y, test_y)"
   ]
  },
  {
   "cell_type": "markdown",
   "metadata": {},
   "source": [
    "### Logged Model"
   ]
  },
  {
   "cell_type": "code",
   "execution_count": 40,
   "metadata": {},
   "outputs": [
    {
     "data": {
      "application/vnd.jupyter.widget-view+json": {
       "model_id": "aef343fc096d4a4b815bfb5bb8314288",
       "version_major": 2,
       "version_minor": 0
      },
      "text/plain": [
       "Downloading artifacts:   0%|          | 0/5 [00:00<?, ?it/s]"
      ]
     },
     "metadata": {},
     "output_type": "display_data"
    },
    {
     "name": "stdout",
     "output_type": "stream",
     "text": [
      "RMSE: 0.734 | MAE: 0.564 | R2: 0.237\n"
     ]
    }
   ],
   "source": [
    "logged_model = 'runs:/cddb5cfc6bf64153992104e93913d257/model'\n",
    "\n",
    "# Load model as a PyFuncModel.\n",
    "loaded_model = mlflow.pyfunc.load_model(logged_model)\n",
    "y_predict = loaded_model.predict(pd.DataFrame(test_x))\n",
    "(rmse, mae, r2) = eval_metrics(test_y, y_predict)\n",
    "print(f'RMSE: {rmse:.3f} | MAE: {mae:.3f} | R2: {r2:.3f}')"
   ]
  },
  {
   "cell_type": "markdown",
   "metadata": {},
   "source": [
    "### Version Model"
   ]
  },
  {
   "cell_type": "code",
   "execution_count": 41,
   "metadata": {},
   "outputs": [
    {
     "data": {
      "application/vnd.jupyter.widget-view+json": {
       "model_id": "12862470f3ce40d3adec47d8cc393d57",
       "version_major": 2,
       "version_minor": 0
      },
      "text/plain": [
       "Downloading artifacts:   0%|          | 0/5 [00:00<?, ?it/s]"
      ]
     },
     "metadata": {},
     "output_type": "display_data"
    },
    {
     "name": "stderr",
     "output_type": "stream",
     "text": [
      "2024/09/05 11:53:13 WARNING mlflow.utils.requirements_utils: Detected one or more mismatches between the model's dependencies and the current Python environment:\n",
      " - mlflow (current: 2.16.0, required: mlflow==2.4)\n",
      "To fix the mismatches, call `mlflow.pyfunc.get_model_dependencies(model_uri)` to fetch the model's environment and install dependencies using the resulting environment file.\n"
     ]
    },
    {
     "name": "stdout",
     "output_type": "stream",
     "text": [
      "Version: 3 | RMSE: 0.820 | MAE: 0.654 | R2: 0.047\n"
     ]
    }
   ],
   "source": [
    "model_name = \"ElasticnetWineModel\"\n",
    "version = \"3\"\n",
    "loaded_model = mlflow.pyfunc.load_model(model_uri=f\"models:/{model_name}/{version}\")\n",
    "y_predict = loaded_model.predict(pd.DataFrame(test_x))\n",
    "(rmse, mae, r2) = eval_metrics(test_y, y_predict)\n",
    "print(f'Version: {version} | RMSE: {rmse:.3f} | MAE: {mae:.3f} | R2: {r2:.3f}')"
   ]
  },
  {
   "cell_type": "markdown",
   "metadata": {},
   "source": [
    "### Alias"
   ]
  },
  {
   "cell_type": "code",
   "execution_count": 48,
   "metadata": {},
   "outputs": [
    {
     "data": {
      "application/vnd.jupyter.widget-view+json": {
       "model_id": "9fe5ed5c48c74f73b4ec64a19d6942e6",
       "version_major": 2,
       "version_minor": 0
      },
      "text/plain": [
       "Downloading artifacts:   0%|          | 0/5 [00:00<?, ?it/s]"
      ]
     },
     "metadata": {},
     "output_type": "display_data"
    },
    {
     "name": "stdout",
     "output_type": "stream",
     "text": [
      "Version: 3 | RMSE: 0.820 | MAE: 0.654 | R2: 0.047\n"
     ]
    }
   ],
   "source": [
    "model_name = \"ElasticnetWineModel\"\n",
    "model_version_alias = 'champion'\n",
    "# Get the model version using a model URI\n",
    "model_uri = f\"models:/{model_name}@{model_version_alias}\"\n",
    "loaded_model = mlflow.sklearn.load_model(model_uri)\n",
    "y_predict = loaded_model.predict(pd.DataFrame(test_x))\n",
    "(rmse, mae, r2) = eval_metrics(test_y, y_predict)\n",
    "print(f'Version: {version} | RMSE: {rmse:.3f} | MAE: {mae:.3f} | R2: {r2:.3f}')"
   ]
  }
 ],
 "metadata": {
  "kernelspec": {
   "display_name": "Python 3",
   "language": "python",
   "name": "python3"
  },
  "language_info": {
   "codemirror_mode": {
    "name": "ipython",
    "version": 3
   },
   "file_extension": ".py",
   "mimetype": "text/x-python",
   "name": "python",
   "nbconvert_exporter": "python",
   "pygments_lexer": "ipython3",
   "version": "3.9.16"
  }
 },
 "nbformat": 4,
 "nbformat_minor": 2
}
